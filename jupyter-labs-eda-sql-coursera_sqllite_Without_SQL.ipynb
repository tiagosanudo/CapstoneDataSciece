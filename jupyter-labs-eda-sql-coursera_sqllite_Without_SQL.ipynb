{
 "cells": [
  {
   "cell_type": "markdown",
   "id": "62f5e5fc-c21f-4a5b-8e79-5ad7c2c32331",
   "metadata": {},
   "source": [
    "<p style=\"text-align:center\">\n",
    "    <a href=\"https://skills.network/?utm_medium=Exinfluencer&utm_source=Exinfluencer&utm_content=000026UJ&utm_term=10006555&utm_id=NA-SkillsNetwork-Channel-SkillsNetworkCoursesIBMDS0321ENSkillsNetwork865-2022-01-01\" target=\"_blank\">\n",
    "    <img src=\"https://cf-courses-data.s3.us.cloud-object-storage.appdomain.cloud/assets/logos/SN_web_lightmode.png\" width=\"200\" alt=\"Skills Network Logo\"  />\n",
    "    </a>\n",
    "</p>\n",
    "\n",
    "<h1 align=center><font size = 5>Assignment: SQL Notebook for Peer Assignment</font></h1>\n",
    "\n",
    "Estimated time needed: **60** minutes.\n",
    "\n",
    "## Introduction\n",
    "Using this Python notebook you will:\n",
    "\n",
    "1.  Understand the Spacex DataSet\n",
    "2.  Load the dataset  into the corresponding table in a Db2 database\n",
    "3.  Execute SQL queries to answer assignment questions \n"
   ]
  },
  {
   "cell_type": "markdown",
   "id": "28b87e78-66b4-42a6-bc76-a8c3e9122b81",
   "metadata": {},
   "source": [
    "## Overview of the DataSet\n",
    "\n",
    "SpaceX has gained worldwide attention for a series of historic milestones. \n",
    "\n",
    "It is the only private company ever to return a spacecraft from low-earth orbit, which it first accomplished in December 2010.\n",
    "SpaceX advertises Falcon 9 rocket launches on its website with a cost of 62 million dollars wheras other providers cost upward of 165 million dollars each, much of the savings is because Space X can reuse the first stage. \n",
    "\n",
    "\n",
    "Therefore if we can determine if the first stage will land, we can determine the cost of a launch. \n",
    "\n",
    "This information can be used if an alternate company wants to bid against SpaceX for a rocket launch.\n",
    "\n",
    "This dataset includes a record for each payload carried during a SpaceX mission into outer space.\n"
   ]
  },
  {
   "cell_type": "markdown",
   "id": "ffe8c135-38dc-4e01-9956-5f5bc504f285",
   "metadata": {},
   "source": [
    "### Download the datasets\n",
    "\n",
    "This assignment requires you to load the spacex dataset.\n",
    "\n",
    "In many cases the dataset to be analyzed is available as a .CSV (comma separated values) file, perhaps on the internet. Click on the link below to download and save the dataset (.CSV file):\n",
    "\n",
    " <a href=\"https://cf-courses-data.s3.us.cloud-object-storage.appdomain.cloud/IBM-DS0321EN-SkillsNetwork/labs/module_2/data/Spacex.csv\" target=\"_blank\">Spacex DataSet</a>\n",
    "\n"
   ]
  },
  {
   "cell_type": "code",
   "execution_count": 1,
   "id": "c00de771-8c83-4dc5-8592-fa6178faeeae",
   "metadata": {},
   "outputs": [
    {
     "name": "stdout",
     "output_type": "stream",
     "text": [
      "Requirement already satisfied: sqlalchemy in c:\\users\\andre\\anaconda3\\lib\\site-packages (1.3.24)\n"
     ]
    }
   ],
   "source": [
    "#!pip install sqlalchemy"
   ]
  },
  {
   "cell_type": "markdown",
   "id": "21bfcb4f-176e-40d8-a398-4de8fd56d2f3",
   "metadata": {},
   "source": [
    "### Connect to the database\n",
    "\n",
    "Let us first load the SQL extension and establish a connection with the database\n"
   ]
  },
  {
   "cell_type": "code",
   "execution_count": 2,
   "id": "fcb6ec57-e566-49bc-921f-83c4fa2046d0",
   "metadata": {},
   "outputs": [],
   "source": [
    "%load_ext sql"
   ]
  },
  {
   "cell_type": "code",
   "execution_count": 3,
   "id": "6e472564-b81a-4ab7-9f81-8a887f99e46f",
   "metadata": {},
   "outputs": [],
   "source": [
    "import csv, sqlite3\n",
    "\n",
    "con = sqlite3.connect(\"my_data1.db\")\n",
    "cur = con.cursor()"
   ]
  },
  {
   "cell_type": "code",
   "execution_count": 4,
   "id": "a39f4990-90f3-4b4b-bc2c-c2c7f031e355",
   "metadata": {},
   "outputs": [],
   "source": [
    "#!pip install -q pandas==1.1.5"
   ]
  },
  {
   "cell_type": "code",
   "execution_count": 5,
   "id": "6c405952-7668-42cd-8f1d-359b527d0575",
   "metadata": {},
   "outputs": [],
   "source": [
    "%sql sqlite:///my_data1.db"
   ]
  },
  {
   "cell_type": "code",
   "execution_count": 6,
   "id": "2717bc34-beac-4bd7-a89e-c4a41e8157f8",
   "metadata": {},
   "outputs": [
    {
     "name": "stderr",
     "output_type": "stream",
     "text": [
      "C:\\Users\\andre\\anaconda3\\lib\\site-packages\\pandas\\core\\generic.py:2872: UserWarning: The spaces in these column names will not be changed. In pandas versions < 0.14, spaces were converted to underscores.\n",
      "  sql.to_sql(\n"
     ]
    }
   ],
   "source": [
    "import pandas as pd\n",
    "df = pd.read_csv(\"https://cf-courses-data.s3.us.cloud-object-storage.appdomain.cloud/IBM-DS0321EN-SkillsNetwork/labs/module_2/data/Spacex.csv\")\n",
    "df.to_sql(\"SPACEXTBL\", con, if_exists='replace', index=False,method=\"multi\")"
   ]
  },
  {
   "cell_type": "markdown",
   "id": "aeb3df77-52db-4f77-90a0-bbf6760b1125",
   "metadata": {},
   "source": [
    "## Tasks\n",
    "\n",
    "Now write and execute SQL queries to solve the assignment tasks.\n",
    "\n",
    "**Note: If the column names are in mixed case enclose it in double quotes\n",
    "   For Example \"Landing_Outcome\"**\n",
    "\n",
    "### Task 1\n",
    "\n",
    "\n",
    "\n",
    "\n",
    "##### Display the names of the unique launch sites  in the space mission\n"
   ]
  },
  {
   "cell_type": "code",
   "execution_count": 8,
   "id": "064f242f-3e91-4990-9f3c-131f1f60cec3",
   "metadata": {},
   "outputs": [
    {
     "data": {
      "text/plain": [
       "['CCAFS LC-40', 'VAFB SLC-4E', 'KSC LC-39A', 'CCAFS SLC-40']"
      ]
     },
     "execution_count": 8,
     "metadata": {},
     "output_type": "execute_result"
    }
   ],
   "source": [
    "unique_launch=df[\"Launch_Site\"].unique().tolist()\n",
    "unique_launch"
   ]
  },
  {
   "cell_type": "markdown",
   "id": "6ad3ca6d-02c4-47cc-bcb6-b2f375e29f14",
   "metadata": {},
   "source": [
    "\n",
    "### Task 2\n",
    "\n",
    "\n",
    "#####  Display 5 records where launch sites begin with the string 'CCA' \n"
   ]
  },
  {
   "cell_type": "code",
   "execution_count": 9,
   "id": "c8b96954-f622-40f1-afa5-d242dd0151b4",
   "metadata": {},
   "outputs": [
    {
     "name": "stdout",
     "output_type": "stream",
     "text": [
      "CCAFS LC-40\n",
      "CCAFS LC-40\n",
      "CCAFS LC-40\n",
      "CCAFS LC-40\n",
      "CCAFS LC-40\n"
     ]
    }
   ],
   "source": [
    "count=0\n",
    "for site in df[\"Launch_Site\"]:\n",
    "    if \"CCA\" in site and count < 5:\n",
    "        print(site)\n",
    "        count=count+1"
   ]
  },
  {
   "cell_type": "code",
   "execution_count": 13,
   "metadata": {},
   "outputs": [
    {
     "data": {
      "text/plain": [
       "CCAFS SLC-40    34\n",
       "CCAFS LC-40     26\n",
       "dtype: int64"
      ]
     },
     "execution_count": 13,
     "metadata": {},
     "output_type": "execute_result"
    }
   ],
   "source": [
    "launch_site_CCA=[]\n",
    "for site in df[\"Launch_Site\"]:\n",
    "    if \"CCA\" in site:\n",
    "        launch_site_CCA.append(site)\n",
    "#random.choices(launch_site_CCA, k=5)\n",
    "launch_site_CCA=pd.Series(launch_site_CCA)\n",
    "launch_site_CCA.value_counts()"
   ]
  },
  {
   "cell_type": "markdown",
   "id": "a1245fe9-e9c7-4d3f-8e39-5f0763511ab0",
   "metadata": {},
   "source": [
    "### Task 3\n",
    "\n",
    "\n",
    "\n",
    "\n",
    "##### Display the total payload mass carried by boosters launched by NASA (CRS)\n"
   ]
  },
  {
   "cell_type": "code",
   "execution_count": 14,
   "id": "bca5e349-bd05-4ace-b1c8-9eeea1b46a32",
   "metadata": {},
   "outputs": [
    {
     "name": "stdout",
     "output_type": "stream",
     "text": [
      "the total mas transported by NASA is 619967KG\n"
     ]
    }
   ],
   "source": [
    "total_mass=df[\"PAYLOAD_MASS__KG_\"].sum()\n",
    "print(f\"the total mas transported by NASA is {total_mass}KG\")"
   ]
  },
  {
   "cell_type": "markdown",
   "id": "68009afe-0c04-408b-a3ea-fccb5a4c2a85",
   "metadata": {},
   "source": [
    "### Task 4\n",
    "\n",
    "\n",
    "\n",
    "\n",
    "##### Display average payload mass carried by booster version F9 v1.1\n"
   ]
  },
  {
   "cell_type": "code",
   "execution_count": 15,
   "id": "c9ab7fe6-b18c-4a77-86b2-61c398c58c43",
   "metadata": {},
   "outputs": [
    {
     "data": {
      "text/plain": [
       "F9 v1.1           5\n",
       "F9 v1.0  B0003    1\n",
       "F9 B5B1054        1\n",
       "F9 B5B1059.1      1\n",
       "F9 B5 B1048.4     1\n",
       "                 ..\n",
       "F9 FT B1035.1     1\n",
       "F9 FT B1034       1\n",
       "F9 FT B1032.1     1\n",
       "F9 FT  B1021.2    1\n",
       "F9 B5 B1058.4     1\n",
       "Name: Booster_Version, Length: 97, dtype: int64"
      ]
     },
     "execution_count": 15,
     "metadata": {},
     "output_type": "execute_result"
    }
   ],
   "source": [
    "df[\"Booster_Version\"].value_counts()"
   ]
  },
  {
   "cell_type": "code",
   "execution_count": 8,
   "metadata": {},
   "outputs": [
    {
     "data": {
      "text/plain": [
       "2928.4"
      ]
     },
     "execution_count": 8,
     "metadata": {},
     "output_type": "execute_result"
    }
   ],
   "source": [
    "df_F9_1_1=df[df[\"Booster_Version\"] == \"F9 v1.1\"]\n",
    "df_F9_1_1[\"PAYLOAD_MASS__KG_\"].mean()"
   ]
  },
  {
   "cell_type": "markdown",
   "id": "daf51f8c-68ab-4bec-9e00-f0816f7afe69",
   "metadata": {},
   "source": [
    "### Task 5\n",
    "\n",
    "##### List the date when the first succesful landing outcome in ground pad was acheived.\n",
    "\n",
    "\n",
    "_Hint:Use min function_ \n"
   ]
  },
  {
   "cell_type": "code",
   "execution_count": 21,
   "id": "ccb7b534-8ad1-47d4-ad4f-fa0d44cb7d7f",
   "metadata": {},
   "outputs": [
    {
     "data": {
      "text/plain": [
       "'22-12-2015'"
      ]
     },
     "execution_count": 21,
     "metadata": {},
     "output_type": "execute_result"
    }
   ],
   "source": [
    "df_ground_pad=df[df['Landing _Outcome'] == 'Success (ground pad)' ]\n",
    "df_ground_pad.iloc[0,0]"
   ]
  },
  {
   "cell_type": "markdown",
   "id": "f3b0a30d-0c0e-4438-8ec8-94ff0bfa6241",
   "metadata": {},
   "source": [
    "### Task 6\n",
    "\n",
    "##### List the names of the boosters which have success in drone ship and have payload mass greater than 4000 but less than 6000\n"
   ]
  },
  {
   "cell_type": "code",
   "execution_count": 22,
   "id": "a8a46f10-b7c2-4c2c-836a-21e9289107c5",
   "metadata": {},
   "outputs": [
    {
     "name": "stdout",
     "output_type": "stream",
     "text": [
      "Booster versions with the description ['F9 FT B1022', 'F9 FT B1026', 'F9 FT  B1021.2', 'F9 FT  B1031.2'] have masses between 4000 and 6000 and succeded in landing by drone ship \n"
     ]
    }
   ],
   "source": [
    "df_suc_drone_Mass4000_6000=df[(df['Landing _Outcome'] == 'Success (drone ship)') & (df['PAYLOAD_MASS__KG_'] < 6000) & (df['PAYLOAD_MASS__KG_'] > 4000)] \n",
    "booster=df_suc_drone_Mass4000_6000[\"Booster_Version\"].to_list()\n",
    "print(f\"Booster versions with the description {booster} have masses between 4000 and 6000 and succeded in landing by drone ship \")"
   ]
  },
  {
   "cell_type": "markdown",
   "id": "3b2e99ee-3df2-4059-93fd-0397c93e87a1",
   "metadata": {},
   "source": [
    "### Task 7\n",
    "\n",
    "\n",
    "\n",
    "\n",
    "##### List the total number of successful and failure mission outcomes\n"
   ]
  },
  {
   "cell_type": "code",
   "execution_count": 23,
   "id": "33a28c37-4c70-4a2f-a863-c711e5685b29",
   "metadata": {},
   "outputs": [
    {
     "name": "stdout",
     "output_type": "stream",
     "text": [
      "There were 100 succesfull and 1 unsuccesfull mission\n"
     ]
    }
   ],
   "source": [
    "success=0\n",
    "failure=0\n",
    "for outcome in df['Mission_Outcome']:\n",
    "    if \"Success\" in outcome:\n",
    "        success=success+1\n",
    "    else:\n",
    "        failure=failure+1\n",
    "print(f\"There were {success} succesfull and {failure} unsuccesfull mission\")"
   ]
  },
  {
   "cell_type": "markdown",
   "id": "660e7f9f-6936-4b84-b419-ca94c04f99e2",
   "metadata": {},
   "source": [
    "### Task 8\n",
    "\n",
    "\n",
    "\n",
    "##### List the   names of the booster_versions which have carried the maximum payload mass. Use a subquery\n"
   ]
  },
  {
   "cell_type": "code",
   "execution_count": 28,
   "id": "c3d08631-cbc4-42f1-aa3a-d68e2edad72c",
   "metadata": {},
   "outputs": [
    {
     "data": {
      "text/plain": [
       "array(['F9 B5 B1048.4', 'F9 B5 B1049.4', 'F9 B5 B1051.3', 'F9 B5 B1056.4',\n",
       "       'F9 B5 B1048.5', 'F9 B5 B1051.4', 'F9 B5 B1049.5',\n",
       "       'F9 B5 B1060.2 ', 'F9 B5 B1058.3 ', 'F9 B5 B1051.6',\n",
       "       'F9 B5 B1060.3', 'F9 B5 B1049.7 '], dtype=object)"
      ]
     },
     "execution_count": 28,
     "metadata": {},
     "output_type": "execute_result"
    }
   ],
   "source": [
    "max_load=df[df[\"PAYLOAD_MASS__KG_\"] == df['PAYLOAD_MASS__KG_'].max()]\n",
    "max_load['Booster_Version'].unique()"
   ]
  },
  {
   "cell_type": "markdown",
   "id": "008f7c68-5946-43c4-9945-1a45e603eb35",
   "metadata": {},
   "source": [
    "### Task 9\n",
    "\n",
    "\n",
    "##### List the records which will display the month names, failure landing_outcomes in drone ship ,booster versions, launch_site for the months in year 2015.\n",
    "\n",
    "**Note: SQLLite does not support monthnames. So you need to use  substr(Date, 4, 2) as month to get the months and substr(Date,7,4)='2015' for year.**\n"
   ]
  },
  {
   "cell_type": "code",
   "execution_count": 15,
   "metadata": {},
   "outputs": [
    {
     "data": {
      "text/html": [
       "<div>\n",
       "<style scoped>\n",
       "    .dataframe tbody tr th:only-of-type {\n",
       "        vertical-align: middle;\n",
       "    }\n",
       "\n",
       "    .dataframe tbody tr th {\n",
       "        vertical-align: top;\n",
       "    }\n",
       "\n",
       "    .dataframe thead th {\n",
       "        text-align: right;\n",
       "    }\n",
       "</style>\n",
       "<table border=\"1\" class=\"dataframe\">\n",
       "  <thead>\n",
       "    <tr style=\"text-align: right;\">\n",
       "      <th></th>\n",
       "      <th>Date</th>\n",
       "      <th>Time (UTC)</th>\n",
       "      <th>Booster_Version</th>\n",
       "      <th>Launch_Site</th>\n",
       "      <th>Payload</th>\n",
       "      <th>PAYLOAD_MASS__KG_</th>\n",
       "      <th>Orbit</th>\n",
       "      <th>Customer</th>\n",
       "      <th>Mission_Outcome</th>\n",
       "      <th>Landing _Outcome</th>\n",
       "    </tr>\n",
       "  </thead>\n",
       "  <tbody>\n",
       "    <tr>\n",
       "      <th>13</th>\n",
       "      <td>10-01-2015</td>\n",
       "      <td>09:47:00</td>\n",
       "      <td>F9 v1.1 B1012</td>\n",
       "      <td>CCAFS LC-40</td>\n",
       "      <td>SpaceX CRS-5</td>\n",
       "      <td>2395</td>\n",
       "      <td>LEO (ISS)</td>\n",
       "      <td>NASA (CRS)</td>\n",
       "      <td>Success</td>\n",
       "      <td>Failure (drone ship)</td>\n",
       "    </tr>\n",
       "    <tr>\n",
       "      <th>16</th>\n",
       "      <td>14-04-2015</td>\n",
       "      <td>20:10:00</td>\n",
       "      <td>F9 v1.1 B1015</td>\n",
       "      <td>CCAFS LC-40</td>\n",
       "      <td>SpaceX CRS-6</td>\n",
       "      <td>1898</td>\n",
       "      <td>LEO (ISS)</td>\n",
       "      <td>NASA (CRS)</td>\n",
       "      <td>Success</td>\n",
       "      <td>Failure (drone ship)</td>\n",
       "    </tr>\n",
       "    <tr>\n",
       "      <th>20</th>\n",
       "      <td>17-01-2016</td>\n",
       "      <td>18:42:00</td>\n",
       "      <td>F9 v1.1 B1017</td>\n",
       "      <td>VAFB SLC-4E</td>\n",
       "      <td>Jason-3</td>\n",
       "      <td>553</td>\n",
       "      <td>LEO</td>\n",
       "      <td>NASA (LSP) NOAA CNES</td>\n",
       "      <td>Success</td>\n",
       "      <td>Failure (drone ship)</td>\n",
       "    </tr>\n",
       "    <tr>\n",
       "      <th>21</th>\n",
       "      <td>04-03-2016</td>\n",
       "      <td>23:35:00</td>\n",
       "      <td>F9 FT B1020</td>\n",
       "      <td>CCAFS LC-40</td>\n",
       "      <td>SES-9</td>\n",
       "      <td>5271</td>\n",
       "      <td>GTO</td>\n",
       "      <td>SES</td>\n",
       "      <td>Success</td>\n",
       "      <td>Failure (drone ship)</td>\n",
       "    </tr>\n",
       "    <tr>\n",
       "      <th>25</th>\n",
       "      <td>15-06-2016</td>\n",
       "      <td>14:29:00</td>\n",
       "      <td>F9 FT B1024</td>\n",
       "      <td>CCAFS LC-40</td>\n",
       "      <td>ABS-2A Eutelsat 117 West B</td>\n",
       "      <td>3600</td>\n",
       "      <td>GTO</td>\n",
       "      <td>ABS Eutelsat</td>\n",
       "      <td>Success</td>\n",
       "      <td>Failure (drone ship)</td>\n",
       "    </tr>\n",
       "  </tbody>\n",
       "</table>\n",
       "</div>"
      ],
      "text/plain": [
       "          Date Time (UTC) Booster_Version  Launch_Site  \\\n",
       "13  10-01-2015   09:47:00   F9 v1.1 B1012  CCAFS LC-40   \n",
       "16  14-04-2015   20:10:00   F9 v1.1 B1015  CCAFS LC-40   \n",
       "20  17-01-2016   18:42:00   F9 v1.1 B1017  VAFB SLC-4E   \n",
       "21  04-03-2016   23:35:00     F9 FT B1020  CCAFS LC-40   \n",
       "25  15-06-2016   14:29:00     F9 FT B1024  CCAFS LC-40   \n",
       "\n",
       "                       Payload  PAYLOAD_MASS__KG_      Orbit  \\\n",
       "13                SpaceX CRS-5               2395  LEO (ISS)   \n",
       "16                SpaceX CRS-6               1898  LEO (ISS)   \n",
       "20                     Jason-3                553        LEO   \n",
       "21                       SES-9               5271        GTO   \n",
       "25  ABS-2A Eutelsat 117 West B               3600        GTO   \n",
       "\n",
       "                Customer Mission_Outcome      Landing _Outcome  \n",
       "13            NASA (CRS)         Success  Failure (drone ship)  \n",
       "16            NASA (CRS)         Success  Failure (drone ship)  \n",
       "20  NASA (LSP) NOAA CNES         Success  Failure (drone ship)  \n",
       "21                   SES         Success  Failure (drone ship)  \n",
       "25          ABS Eutelsat         Success  Failure (drone ship)  "
      ]
     },
     "execution_count": 15,
     "metadata": {},
     "output_type": "execute_result"
    }
   ],
   "source": [
    "df_2015"
   ]
  },
  {
   "cell_type": "code",
   "execution_count": 16,
   "id": "66c15b1b-da4b-4951-8d7c-ac8df75836fc",
   "metadata": {},
   "outputs": [
    {
     "name": "stdout",
     "output_type": "stream",
     "text": [
      "the boosters \n",
      " ['F9 v1.1 B1012', 'F9 v1.1 B1015'] \n",
      " have failed to land with drone ships in 2015\n"
     ]
    }
   ],
   "source": [
    "dates=[]\n",
    "for date in df[\"Date\"]:\n",
    "    if date[6:10] == \"2015\":\n",
    "        dates.append(date)\n",
    "df_2015=df[(df[\"Landing _Outcome\"]=='Failure (drone ship)') & df[\"Date\"].isin(dates)]\n",
    "failed_boosters=df_2015[\"Booster_Version\"].to_list()\n",
    "print(f\"the boosters \\n {failed_boosters} \\n have failed to land with drone ships in 2015\")"
   ]
  },
  {
   "cell_type": "markdown",
   "id": "930a3560-cc1c-4587-866a-7bde5982c648",
   "metadata": {},
   "source": [
    "### Task 10\n",
    "\n",
    "\n",
    "\n",
    "\n",
    "##### Rank the  count of  successful landing_outcomes between the date 04-06-2010 and 20-03-2017 in descending order.\n"
   ]
  },
  {
   "cell_type": "code",
   "execution_count": 33,
   "metadata": {},
   "outputs": [
    {
     "data": {
      "text/html": [
       "<div>\n",
       "<style scoped>\n",
       "    .dataframe tbody tr th:only-of-type {\n",
       "        vertical-align: middle;\n",
       "    }\n",
       "\n",
       "    .dataframe tbody tr th {\n",
       "        vertical-align: top;\n",
       "    }\n",
       "\n",
       "    .dataframe thead th {\n",
       "        text-align: right;\n",
       "    }\n",
       "</style>\n",
       "<table border=\"1\" class=\"dataframe\">\n",
       "  <thead>\n",
       "    <tr style=\"text-align: right;\">\n",
       "      <th></th>\n",
       "      <th>Date</th>\n",
       "      <th>Time (UTC)</th>\n",
       "      <th>Booster_Version</th>\n",
       "      <th>Launch_Site</th>\n",
       "      <th>Payload</th>\n",
       "      <th>PAYLOAD_MASS__KG_</th>\n",
       "      <th>Orbit</th>\n",
       "      <th>Customer</th>\n",
       "      <th>Mission_Outcome</th>\n",
       "      <th>Landing _Outcome</th>\n",
       "    </tr>\n",
       "  </thead>\n",
       "  <tbody>\n",
       "    <tr>\n",
       "      <th>30</th>\n",
       "      <td>16-03-2017</td>\n",
       "      <td>06:00:00</td>\n",
       "      <td>F9 FT B1030</td>\n",
       "      <td>KSC LC-39A</td>\n",
       "      <td>EchoStar 23</td>\n",
       "      <td>5600</td>\n",
       "      <td>GTO</td>\n",
       "      <td>EchoStar</td>\n",
       "      <td>Success</td>\n",
       "      <td>No attempt</td>\n",
       "    </tr>\n",
       "  </tbody>\n",
       "</table>\n",
       "</div>"
      ],
      "text/plain": [
       "          Date Time (UTC) Booster_Version Launch_Site      Payload  \\\n",
       "30  16-03-2017   06:00:00     F9 FT B1030  KSC LC-39A  EchoStar 23   \n",
       "\n",
       "    PAYLOAD_MASS__KG_ Orbit  Customer Mission_Outcome Landing _Outcome  \n",
       "30               5600   GTO  EchoStar         Success       No attempt  "
      ]
     },
     "execution_count": 33,
     "metadata": {},
     "output_type": "execute_result"
    }
   ],
   "source": [
    "lower_date=df[df[\"Date\"]==\"04-06-2010\"]\n",
    "higher_date=df[df[\"Date\"]==\"16-03-2017\"]\n",
    "higher_date"
   ]
  },
  {
   "cell_type": "code",
   "execution_count": 30,
   "id": "d876bcee-cb59-42c0-a747-95560ef3f892",
   "metadata": {},
   "outputs": [
    {
     "data": {
      "text/plain": [
       "No attempt                10\n",
       "Failure (drone ship)       5\n",
       "Success (drone ship)       5\n",
       "Controlled (ocean)         3\n",
       "Success (ground pad)       3\n",
       "Failure (parachute)        2\n",
       "Uncontrolled (ocean)       2\n",
       "Precluded (drone ship)     1\n",
       "Name: Landing _Outcome, dtype: int64"
      ]
     },
     "execution_count": 30,
     "metadata": {},
     "output_type": "execute_result"
    }
   ],
   "source": [
    "\n",
    "df_timed=df.iloc[0:31,]\n",
    "df_timed['Landing _Outcome'].value_counts(ascending=False)"
   ]
  },
  {
   "cell_type": "markdown",
   "id": "48ad1afc-59f0-47a6-ae2e-7b6ff90999dc",
   "metadata": {},
   "source": [
    "### Reference Links\n",
    "\n",
    "* <a href =\"https://cf-courses-data.s3.us.cloud-object-storage.appdomain.cloud/IBMDeveloperSkillsNetwork-DB0201EN-SkillsNetwork/labs/Labs_Coursera_V5/labs/Lab%20-%20String%20Patterns%20-%20Sorting%20-%20Grouping/instructional-labs.md.html?origin=www.coursera.org\">Hands-on Lab : String Patterns, Sorting and Grouping</a>  \n",
    "\n",
    "*  <a  href=\"https://cf-courses-data.s3.us.cloud-object-storage.appdomain.cloud/IBMDeveloperSkillsNetwork-DB0201EN-SkillsNetwork/labs/Labs_Coursera_V5/labs/Lab%20-%20Built-in%20functions%20/Hands-on_Lab__Built-in_Functions.md.html?origin=www.coursera.org\">Hands-on Lab: Built-in functions</a>\n",
    "\n",
    "*  <a  href=\"https://cf-courses-data.s3.us.cloud-object-storage.appdomain.cloud/IBMDeveloperSkillsNetwork-DB0201EN-SkillsNetwork/labs/Labs_Coursera_V5/labs/Lab%20-%20Sub-queries%20and%20Nested%20SELECTs%20/instructional-labs.md.html?origin=www.coursera.org\">Hands-on Lab : Sub-queries and Nested SELECT Statements</a>\n",
    "\n",
    "*   <a href=\"https://cf-courses-data.s3.us.cloud-object-storage.appdomain.cloud/IBMDeveloperSkillsNetwork-DB0201EN-SkillsNetwork/labs/Module%205/DB0201EN-Week3-1-3-SQLmagic.ipynb\">Hands-on Tutorial: Accessing Databases with SQL magic</a>\n",
    "\n",
    "*  <a href= \"https://cf-courses-data.s3.us.cloud-object-storage.appdomain.cloud/IBMDeveloperSkillsNetwork-DB0201EN-SkillsNetwork/labs/Module%205/DB0201EN-Week3-1-4-Analyzing.ipynb\">Hands-on Lab: Analyzing a real World Data Set</a>\n",
    "\n",
    "\n"
   ]
  },
  {
   "cell_type": "markdown",
   "id": "ec1c809f-d209-41d5-8b22-76f7cd59bb53",
   "metadata": {},
   "source": [
    "## Author(s)\n",
    "\n",
    "<h4> Lakshmi Holla </h4>\n"
   ]
  },
  {
   "cell_type": "markdown",
   "id": "bce3d843-e6cc-49de-a788-a31a3de09872",
   "metadata": {},
   "source": [
    "## Other Contributors\n",
    "\n",
    "<h4> Rav Ahuja </h4>\n"
   ]
  },
  {
   "cell_type": "markdown",
   "id": "2a98a3d8-e49d-496a-bc70-e7f473580c66",
   "metadata": {},
   "source": [
    "## Change log\n",
    "| Date | Version | Changed by | Change Description |\n",
    "|------|--------|--------|---------|\n",
    "| 2021-07-09 | 0.2 |Lakshmi Holla | Changes made in magic sql|\n",
    "| 2021-05-20 | 0.1 |Lakshmi Holla | Created Initial Version |\n"
   ]
  },
  {
   "cell_type": "markdown",
   "id": "76a7ca44-fa0a-45b7-a6bd-a8a4f0df1eec",
   "metadata": {},
   "source": [
    "## <h3 align=\"center\"> © IBM Corporation 2021. All rights reserved. <h3/>\n"
   ]
  }
 ],
 "metadata": {
  "kernelspec": {
   "display_name": "Python 3 (ipykernel)",
   "language": "python",
   "name": "python3"
  },
  "language_info": {
   "codemirror_mode": {
    "name": "ipython",
    "version": 3
   },
   "file_extension": ".py",
   "mimetype": "text/x-python",
   "name": "python",
   "nbconvert_exporter": "python",
   "pygments_lexer": "ipython3",
   "version": "3.9.13"
  }
 },
 "nbformat": 4,
 "nbformat_minor": 4
}
